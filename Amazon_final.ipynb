{
 "cells": [
  {
   "cell_type": "markdown",
   "metadata": {},
   "source": [
    "#### Importing libraries"
   ]
  },
  {
   "cell_type": "code",
   "execution_count": 1,
   "metadata": {},
   "outputs": [
    {
     "name": "stderr",
     "output_type": "stream",
     "text": [
      "C:\\Anaconda\\lib\\site-packages\\sklearn\\utils\\deprecation.py:143: FutureWarning: The sklearn.ensemble.forest module is  deprecated in version 0.22 and will be removed in version 0.24. The corresponding classes / functions should instead be imported from sklearn.ensemble. Anything that cannot be imported from sklearn.ensemble is now part of the private API.\n",
      "  warnings.warn(message, FutureWarning)\n"
     ]
    }
   ],
   "source": [
    "import pandas as pd\n",
    "import numpy as np\n",
    "import matplotlib.pyplot as plt\n",
    "import seaborn as sns\n",
    "from sklearn.preprocessing import PolynomialFeatures, power_transform, MinMaxScaler, StandardScaler, RobustScaler\n",
    "from sklearn.model_selection import train_test_split, KFold, RepeatedKFold\n",
    "from sklearn.linear_model import LinearRegression, Ridge, Lasso\n",
    "from sklearn.ensemble import RandomForestRegressor, ExtraTreesRegressor, BaggingRegressor, GradientBoostingRegressor\n",
    "from xgboost import XGBRegressor\n",
    "from lightgbm import LGBMRegressor\n",
    "from catboost import CatBoostRegressor\n",
    "from feature_engine.outliers import Winsorizer\n",
    "from category_encoders import BaseNEncoder, BinaryEncoder, CatBoostEncoder, JamesSteinEncoder, HelmertEncoder, LeaveOneOutEncoder,TargetEncoder\n",
    "from sklearn.metrics import mean_squared_error, mean_absolute_error, f1_score, r2_score\n",
    "from tqdm.notebook import tqdm\n",
    "from rfpimp import permutation_importances\n",
    "import optuna"
   ]
  },
  {
   "cell_type": "markdown",
   "metadata": {},
   "source": [
    "#### Getting the data"
   ]
  },
  {
   "cell_type": "code",
   "execution_count": 2,
   "metadata": {},
   "outputs": [],
   "source": [
    "training = pd.read_csv('Train.csv')\n",
    "testing = pd.read_csv('Test.csv')\n",
    "sample = pd.read_csv('sample submission.csv')"
   ]
  },
  {
   "cell_type": "code",
   "execution_count": 3,
   "metadata": {
    "scrolled": true
   },
   "outputs": [
    {
     "data": {
      "text/html": [
       "<div>\n",
       "<style scoped>\n",
       "    .dataframe tbody tr th:only-of-type {\n",
       "        vertical-align: middle;\n",
       "    }\n",
       "\n",
       "    .dataframe tbody tr th {\n",
       "        vertical-align: top;\n",
       "    }\n",
       "\n",
       "    .dataframe thead th {\n",
       "        text-align: right;\n",
       "    }\n",
       "</style>\n",
       "<table border=\"1\" class=\"dataframe\">\n",
       "  <thead>\n",
       "    <tr style=\"text-align: right;\">\n",
       "      <th></th>\n",
       "      <th>EmpID</th>\n",
       "      <th>BiasInfluentialFactor</th>\n",
       "      <th>FitmentPercent</th>\n",
       "    </tr>\n",
       "  </thead>\n",
       "  <tbody>\n",
       "    <tr>\n",
       "      <th>0</th>\n",
       "      <td>5664</td>\n",
       "      <td>MaritalStatus</td>\n",
       "      <td>25.14</td>\n",
       "    </tr>\n",
       "    <tr>\n",
       "      <th>1</th>\n",
       "      <td>23568</td>\n",
       "      <td>DegreeBranch</td>\n",
       "      <td>91.44</td>\n",
       "    </tr>\n",
       "    <tr>\n",
       "      <th>2</th>\n",
       "      <td>21490</td>\n",
       "      <td>MartialStatus</td>\n",
       "      <td>76.92</td>\n",
       "    </tr>\n",
       "    <tr>\n",
       "      <th>3</th>\n",
       "      <td>8363</td>\n",
       "      <td>HighestDegree</td>\n",
       "      <td>77.92</td>\n",
       "    </tr>\n",
       "    <tr>\n",
       "      <th>4</th>\n",
       "      <td>6165</td>\n",
       "      <td>Gender</td>\n",
       "      <td>85.64</td>\n",
       "    </tr>\n",
       "    <tr>\n",
       "      <th>5</th>\n",
       "      <td>17679</td>\n",
       "      <td>NaN</td>\n",
       "      <td>41.23</td>\n",
       "    </tr>\n",
       "    <tr>\n",
       "      <th>6</th>\n",
       "      <td>9715</td>\n",
       "      <td>NaN</td>\n",
       "      <td>50.00</td>\n",
       "    </tr>\n",
       "  </tbody>\n",
       "</table>\n",
       "</div>"
      ],
      "text/plain": [
       "   EmpID BiasInfluentialFactor  FitmentPercent\n",
       "0   5664         MaritalStatus           25.14\n",
       "1  23568          DegreeBranch           91.44\n",
       "2  21490         MartialStatus           76.92\n",
       "3   8363         HighestDegree           77.92\n",
       "4   6165                Gender           85.64\n",
       "5  17679                   NaN           41.23\n",
       "6   9715                   NaN           50.00"
      ]
     },
     "execution_count": 3,
     "metadata": {},
     "output_type": "execute_result"
    }
   ],
   "source": [
    "sample"
   ]
  },
  {
   "cell_type": "code",
   "execution_count": 4,
   "metadata": {},
   "outputs": [
    {
     "data": {
      "text/plain": [
       "((13645, 22), (8745, 20))"
      ]
     },
     "execution_count": 4,
     "metadata": {},
     "output_type": "execute_result"
    }
   ],
   "source": [
    "training.shape, testing.shape"
   ]
  },
  {
   "cell_type": "code",
   "execution_count": 5,
   "metadata": {
    "scrolled": false
   },
   "outputs": [
    {
     "data": {
      "text/html": [
       "<div>\n",
       "<style scoped>\n",
       "    .dataframe tbody tr th:only-of-type {\n",
       "        vertical-align: middle;\n",
       "    }\n",
       "\n",
       "    .dataframe tbody tr th {\n",
       "        vertical-align: top;\n",
       "    }\n",
       "\n",
       "    .dataframe thead th {\n",
       "        text-align: right;\n",
       "    }\n",
       "</style>\n",
       "<table border=\"1\" class=\"dataframe\">\n",
       "  <thead>\n",
       "    <tr style=\"text-align: right;\">\n",
       "      <th></th>\n",
       "      <th>EmpID</th>\n",
       "      <th>EmpName</th>\n",
       "      <th>LanguageOfCommunication</th>\n",
       "      <th>Age</th>\n",
       "      <th>Gender</th>\n",
       "      <th>JobProfileIDApplyingFor</th>\n",
       "      <th>HighestDegree</th>\n",
       "      <th>DegreeBranch</th>\n",
       "      <th>GraduatingInstitute</th>\n",
       "      <th>LatestDegreeCGPA</th>\n",
       "      <th>...</th>\n",
       "      <th>CurrentCTC</th>\n",
       "      <th>ExpectedCTC</th>\n",
       "      <th>MartialStatus</th>\n",
       "      <th>EmpScore</th>\n",
       "      <th>CurrentDesignation</th>\n",
       "      <th>CurrentCompanyType</th>\n",
       "      <th>DepartmentInCompany</th>\n",
       "      <th>TotalLeavesTaken</th>\n",
       "      <th>BiasInfluentialFactor</th>\n",
       "      <th>FitmentPercent</th>\n",
       "    </tr>\n",
       "  </thead>\n",
       "  <tbody>\n",
       "    <tr>\n",
       "      <th>0</th>\n",
       "      <td>11041</td>\n",
       "      <td>John</td>\n",
       "      <td>English</td>\n",
       "      <td>35</td>\n",
       "      <td>Male</td>\n",
       "      <td>JR85289</td>\n",
       "      <td>B.Tech</td>\n",
       "      <td>Electrical</td>\n",
       "      <td>Tier 1</td>\n",
       "      <td>7</td>\n",
       "      <td>...</td>\n",
       "      <td>21</td>\n",
       "      <td>26</td>\n",
       "      <td>Married</td>\n",
       "      <td>5</td>\n",
       "      <td>SSE</td>\n",
       "      <td>Enterprise</td>\n",
       "      <td>Design</td>\n",
       "      <td>20</td>\n",
       "      <td>YearsOfExperince</td>\n",
       "      <td>95.40</td>\n",
       "    </tr>\n",
       "    <tr>\n",
       "      <th>1</th>\n",
       "      <td>15079</td>\n",
       "      <td>William</td>\n",
       "      <td>English</td>\n",
       "      <td>26</td>\n",
       "      <td>Male</td>\n",
       "      <td>JR87525</td>\n",
       "      <td>B.Tech</td>\n",
       "      <td>Artificial Intelligence</td>\n",
       "      <td>Tier 3</td>\n",
       "      <td>7</td>\n",
       "      <td>...</td>\n",
       "      <td>15</td>\n",
       "      <td>19</td>\n",
       "      <td>Married</td>\n",
       "      <td>5</td>\n",
       "      <td>BA</td>\n",
       "      <td>MidSized</td>\n",
       "      <td>Engineering</td>\n",
       "      <td>6</td>\n",
       "      <td>NaN</td>\n",
       "      <td>67.09</td>\n",
       "    </tr>\n",
       "    <tr>\n",
       "      <th>2</th>\n",
       "      <td>18638</td>\n",
       "      <td>James</td>\n",
       "      <td>English</td>\n",
       "      <td>36</td>\n",
       "      <td>Female</td>\n",
       "      <td>JR87525</td>\n",
       "      <td>PhD</td>\n",
       "      <td>Computer Science</td>\n",
       "      <td>Tier 1</td>\n",
       "      <td>6</td>\n",
       "      <td>...</td>\n",
       "      <td>15</td>\n",
       "      <td>24</td>\n",
       "      <td>Single</td>\n",
       "      <td>5</td>\n",
       "      <td>SDE</td>\n",
       "      <td>MidSized</td>\n",
       "      <td>Engineering</td>\n",
       "      <td>19</td>\n",
       "      <td>Gender</td>\n",
       "      <td>91.26</td>\n",
       "    </tr>\n",
       "    <tr>\n",
       "      <th>3</th>\n",
       "      <td>3941</td>\n",
       "      <td>Charles</td>\n",
       "      <td>English</td>\n",
       "      <td>29</td>\n",
       "      <td>Female</td>\n",
       "      <td>JR87525</td>\n",
       "      <td>BCA</td>\n",
       "      <td>Information Technology</td>\n",
       "      <td>Tier 2</td>\n",
       "      <td>5</td>\n",
       "      <td>...</td>\n",
       "      <td>16</td>\n",
       "      <td>24</td>\n",
       "      <td>Married</td>\n",
       "      <td>5</td>\n",
       "      <td>SDE</td>\n",
       "      <td>Startup</td>\n",
       "      <td>Product</td>\n",
       "      <td>16</td>\n",
       "      <td>Gender</td>\n",
       "      <td>72.29</td>\n",
       "    </tr>\n",
       "    <tr>\n",
       "      <th>4</th>\n",
       "      <td>5936</td>\n",
       "      <td>George</td>\n",
       "      <td>English</td>\n",
       "      <td>25</td>\n",
       "      <td>Male</td>\n",
       "      <td>JR70175</td>\n",
       "      <td>Dual M.Tech</td>\n",
       "      <td>Computer Science</td>\n",
       "      <td>Tier 3</td>\n",
       "      <td>8</td>\n",
       "      <td>...</td>\n",
       "      <td>24</td>\n",
       "      <td>32</td>\n",
       "      <td>Married</td>\n",
       "      <td>5</td>\n",
       "      <td>SDE</td>\n",
       "      <td>Enterprise</td>\n",
       "      <td>Engineering</td>\n",
       "      <td>10</td>\n",
       "      <td>DegreeBranch</td>\n",
       "      <td>86.34</td>\n",
       "    </tr>\n",
       "    <tr>\n",
       "      <th>5</th>\n",
       "      <td>9670</td>\n",
       "      <td>Frank</td>\n",
       "      <td>Native</td>\n",
       "      <td>35</td>\n",
       "      <td>Male</td>\n",
       "      <td>JR88879</td>\n",
       "      <td>BCA</td>\n",
       "      <td>Computer Science</td>\n",
       "      <td>Tier 2</td>\n",
       "      <td>9</td>\n",
       "      <td>...</td>\n",
       "      <td>25</td>\n",
       "      <td>29</td>\n",
       "      <td>Married</td>\n",
       "      <td>4</td>\n",
       "      <td>DS</td>\n",
       "      <td>MidSized</td>\n",
       "      <td>Engineering</td>\n",
       "      <td>10</td>\n",
       "      <td>YearsOfExperince</td>\n",
       "      <td>93.23</td>\n",
       "    </tr>\n",
       "    <tr>\n",
       "      <th>6</th>\n",
       "      <td>16554</td>\n",
       "      <td>Joseph</td>\n",
       "      <td>Hindi</td>\n",
       "      <td>31</td>\n",
       "      <td>Male</td>\n",
       "      <td>JR85289</td>\n",
       "      <td>PhD</td>\n",
       "      <td>Computer Science</td>\n",
       "      <td>Tier 1</td>\n",
       "      <td>7</td>\n",
       "      <td>...</td>\n",
       "      <td>12</td>\n",
       "      <td>21</td>\n",
       "      <td>Single</td>\n",
       "      <td>3</td>\n",
       "      <td>SDE</td>\n",
       "      <td>Enterprise</td>\n",
       "      <td>Customer Success</td>\n",
       "      <td>8</td>\n",
       "      <td>CurrentCompanyType</td>\n",
       "      <td>62.29</td>\n",
       "    </tr>\n",
       "    <tr>\n",
       "      <th>7</th>\n",
       "      <td>3301</td>\n",
       "      <td>Thomas</td>\n",
       "      <td>English</td>\n",
       "      <td>32</td>\n",
       "      <td>Male</td>\n",
       "      <td>JR85289</td>\n",
       "      <td>B.Tech</td>\n",
       "      <td>Information Technology</td>\n",
       "      <td>Tier 2</td>\n",
       "      <td>8</td>\n",
       "      <td>...</td>\n",
       "      <td>7</td>\n",
       "      <td>17</td>\n",
       "      <td>Married</td>\n",
       "      <td>3</td>\n",
       "      <td>SSE</td>\n",
       "      <td>MidSized</td>\n",
       "      <td>Engineering</td>\n",
       "      <td>18</td>\n",
       "      <td>DegreeBranch</td>\n",
       "      <td>93.71</td>\n",
       "    </tr>\n",
       "    <tr>\n",
       "      <th>8</th>\n",
       "      <td>12236</td>\n",
       "      <td>Henry</td>\n",
       "      <td>English</td>\n",
       "      <td>28</td>\n",
       "      <td>Female</td>\n",
       "      <td>JR87525</td>\n",
       "      <td>M.Tech</td>\n",
       "      <td>Electrical</td>\n",
       "      <td>Tier 1</td>\n",
       "      <td>6</td>\n",
       "      <td>...</td>\n",
       "      <td>21</td>\n",
       "      <td>28</td>\n",
       "      <td>Married</td>\n",
       "      <td>4</td>\n",
       "      <td>SDE</td>\n",
       "      <td>Startup</td>\n",
       "      <td>Engineering</td>\n",
       "      <td>7</td>\n",
       "      <td>Gender</td>\n",
       "      <td>91.66</td>\n",
       "    </tr>\n",
       "    <tr>\n",
       "      <th>9</th>\n",
       "      <td>10157</td>\n",
       "      <td>Robert</td>\n",
       "      <td>Native</td>\n",
       "      <td>31</td>\n",
       "      <td>Female</td>\n",
       "      <td>JR88873</td>\n",
       "      <td>B.Tech</td>\n",
       "      <td>Artificial Intelligence</td>\n",
       "      <td>Tier 2</td>\n",
       "      <td>8</td>\n",
       "      <td>...</td>\n",
       "      <td>21</td>\n",
       "      <td>31</td>\n",
       "      <td>Married</td>\n",
       "      <td>3</td>\n",
       "      <td>SDE</td>\n",
       "      <td>Startup</td>\n",
       "      <td>Customer Success</td>\n",
       "      <td>10</td>\n",
       "      <td>Gender</td>\n",
       "      <td>73.31</td>\n",
       "    </tr>\n",
       "  </tbody>\n",
       "</table>\n",
       "<p>10 rows × 22 columns</p>\n",
       "</div>"
      ],
      "text/plain": [
       "   EmpID  EmpName LanguageOfCommunication  Age  Gender  \\\n",
       "0  11041     John                 English   35    Male   \n",
       "1  15079  William                 English   26    Male   \n",
       "2  18638    James                 English   36  Female   \n",
       "3   3941  Charles                 English   29  Female   \n",
       "4   5936   George                 English   25    Male   \n",
       "5   9670    Frank                  Native   35    Male   \n",
       "6  16554   Joseph                   Hindi   31    Male   \n",
       "7   3301   Thomas                 English   32    Male   \n",
       "8  12236    Henry                 English   28  Female   \n",
       "9  10157   Robert                  Native   31  Female   \n",
       "\n",
       "  JobProfileIDApplyingFor HighestDegree             DegreeBranch  \\\n",
       "0                 JR85289        B.Tech               Electrical   \n",
       "1                 JR87525        B.Tech  Artificial Intelligence   \n",
       "2                 JR87525           PhD         Computer Science   \n",
       "3                 JR87525           BCA   Information Technology   \n",
       "4                 JR70175   Dual M.Tech         Computer Science   \n",
       "5                 JR88879           BCA         Computer Science   \n",
       "6                 JR85289           PhD         Computer Science   \n",
       "7                 JR85289        B.Tech   Information Technology   \n",
       "8                 JR87525        M.Tech               Electrical   \n",
       "9                 JR88873        B.Tech  Artificial Intelligence   \n",
       "\n",
       "  GraduatingInstitute  LatestDegreeCGPA  ...  CurrentCTC  ExpectedCTC  \\\n",
       "0              Tier 1                 7  ...          21           26   \n",
       "1              Tier 3                 7  ...          15           19   \n",
       "2              Tier 1                 6  ...          15           24   \n",
       "3              Tier 2                 5  ...          16           24   \n",
       "4              Tier 3                 8  ...          24           32   \n",
       "5              Tier 2                 9  ...          25           29   \n",
       "6              Tier 1                 7  ...          12           21   \n",
       "7              Tier 2                 8  ...           7           17   \n",
       "8              Tier 1                 6  ...          21           28   \n",
       "9              Tier 2                 8  ...          21           31   \n",
       "\n",
       "   MartialStatus  EmpScore CurrentDesignation  CurrentCompanyType  \\\n",
       "0        Married         5                SSE          Enterprise   \n",
       "1        Married         5                 BA            MidSized   \n",
       "2         Single         5                SDE            MidSized   \n",
       "3        Married         5                SDE             Startup   \n",
       "4        Married         5                SDE          Enterprise   \n",
       "5        Married         4                 DS            MidSized   \n",
       "6         Single         3                SDE          Enterprise   \n",
       "7        Married         3                SSE            MidSized   \n",
       "8        Married         4                SDE             Startup   \n",
       "9        Married         3                SDE             Startup   \n",
       "\n",
       "  DepartmentInCompany TotalLeavesTaken BiasInfluentialFactor  FitmentPercent  \n",
       "0              Design               20      YearsOfExperince           95.40  \n",
       "1         Engineering                6                   NaN           67.09  \n",
       "2         Engineering               19                Gender           91.26  \n",
       "3             Product               16                Gender           72.29  \n",
       "4         Engineering               10          DegreeBranch           86.34  \n",
       "5         Engineering               10      YearsOfExperince           93.23  \n",
       "6    Customer Success                8    CurrentCompanyType           62.29  \n",
       "7         Engineering               18          DegreeBranch           93.71  \n",
       "8         Engineering                7                Gender           91.66  \n",
       "9    Customer Success               10                Gender           73.31  \n",
       "\n",
       "[10 rows x 22 columns]"
      ]
     },
     "execution_count": 5,
     "metadata": {},
     "output_type": "execute_result"
    }
   ],
   "source": [
    "training.head(10)"
   ]
  },
  {
   "cell_type": "code",
   "execution_count": 6,
   "metadata": {
    "scrolled": true
   },
   "outputs": [],
   "source": [
    "asd = (training.ExpectedCTC - training.CurrentCTC)/100"
   ]
  },
  {
   "cell_type": "code",
   "execution_count": 7,
   "metadata": {},
   "outputs": [
    {
     "data": {
      "text/plain": [
       "Index(['EmpID', 'EmpName', 'LanguageOfCommunication', 'Age', 'Gender',\n",
       "       'JobProfileIDApplyingFor', 'HighestDegree', 'DegreeBranch',\n",
       "       'GraduatingInstitute', 'LatestDegreeCGPA', 'YearsOfExperince',\n",
       "       'GraduationYear', 'CurrentCTC', 'ExpectedCTC', 'MartialStatus',\n",
       "       'EmpScore', 'CurrentDesignation', 'CurrentCompanyType',\n",
       "       'DepartmentInCompany', 'TotalLeavesTaken', 'BiasInfluentialFactor',\n",
       "       'FitmentPercent'],\n",
       "      dtype='object')"
      ]
     },
     "execution_count": 7,
     "metadata": {},
     "output_type": "execute_result"
    }
   ],
   "source": [
    "training.columns"
   ]
  },
  {
   "cell_type": "markdown",
   "metadata": {},
   "source": [
    "#### As the submission contains missing values in it. So I have to keep the \"BiasInfluentialFactor\""
   ]
  },
  {
   "cell_type": "code",
   "execution_count": 8,
   "metadata": {},
   "outputs": [],
   "source": [
    "training['BiasInfluentialFactor'].fillna('Missing', inplace=True, axis=0)"
   ]
  },
  {
   "cell_type": "markdown",
   "metadata": {},
   "source": [
    "#### Creating a function for testing set as we need it"
   ]
  },
  {
   "cell_type": "code",
   "execution_count": 9,
   "metadata": {},
   "outputs": [],
   "source": [
    "def filling(df):\n",
    "    if 10 <= df['YearsOfExperince'] >=12 and 33 <=df['Age'] >= 42 and 2009 <= df['GraduationYear'] >= 2011:\n",
    "        return 'YearsOfExperince'\n",
    "    elif df['Gender'] == 'Female' and 3 <= df['EmpScore'] >= 5:\n",
    "        return 'Gender'\n",
    "    elif df['DegreeBranch'] == 'Computer Science' or df['DegreeBranch'] == 'Information Technology':\n",
    "        return 'DegreeBranch'\n",
    "    elif df['CurrentCompanyType'] == 'Enterprise':\n",
    "        return 'CurrentCompanyType'\n",
    "    elif df['Gender'] == 'Male' and df['Gender'] == 'Other' and df['HighestDegree'] != 'MS' and df['HighestDegree'] != 'Computer Science' and df['HighestDegree'] != 'Information Technology' and df['MartialStatus'] == 'Married':\n",
    "        return 'MartialStatus'\n",
    "    elif df['Gender'] == 'Male' and df['HighestDegree'] == 'MS':\n",
    "        return 'HighestDegree'\n",
    "    elif df['Gender'] != 'Female' and df['HighestDegree'] != 'MS' and (df['DegreeBranch'] != 'Computer Science' or df['DegreeBranch'] != 'Information Technology') and df['CurrentCompanyType'] != 'Enterprise' and 4<= df['EmpScore'] >= 5:\n",
    "        return 'EmpScore'\n",
    "    elif df['ExpectedCTC'] > 39 and df['CurrentCompanyType'] != 'Enterprise':\n",
    "        return 'Ethinicity'\n",
    "    elif 8 <df['LatestDegreeCGPA'] >= 10 and 3<= df['EmpScore']>=5:\n",
    "        return 'LatestDegreeCGPA'\n",
    "    else:\n",
    "        return 'Missing'"
   ]
  },
  {
   "cell_type": "code",
   "execution_count": 10,
   "metadata": {},
   "outputs": [],
   "source": [
    "testing['BiasInfluentialFactor'] = testing.apply(lambda df: filling(df), axis = 1)"
   ]
  },
  {
   "cell_type": "markdown",
   "metadata": {},
   "source": [
    "#### Encoding categorical columns"
   ]
  },
  {
   "cell_type": "code",
   "execution_count": 11,
   "metadata": {},
   "outputs": [],
   "source": [
    "lang_map1 = pd.get_dummies(training.LanguageOfCommunication, drop_first=True)\n",
    "training = training.drop('LanguageOfCommunication', axis = 1)\n",
    "training = pd.concat([training,lang_map1], axis = 1)\n",
    "\n",
    "lang_map2 = pd.get_dummies(testing.LanguageOfCommunication, drop_first=True)\n",
    "testing = testing.drop('LanguageOfCommunication', axis = 1)\n",
    "testing = pd.concat([testing,lang_map2], axis = 1)"
   ]
  },
  {
   "cell_type": "code",
   "execution_count": 12,
   "metadata": {},
   "outputs": [],
   "source": [
    "gend_map1 = pd.get_dummies(training.Gender, drop_first=True)\n",
    "training = training.drop('Gender', axis = 1)\n",
    "training = pd.concat([training, gend_map1], axis= 1)\n",
    "\n",
    "gend_map2 = pd.get_dummies(testing.Gender, drop_first=True)\n",
    "testing = testing.drop('Gender', axis = 1)\n",
    "testing = pd.concat([testing, gend_map2], axis= 1)"
   ]
  },
  {
   "cell_type": "code",
   "execution_count": 13,
   "metadata": {},
   "outputs": [],
   "source": [
    "emp1 = pd.get_dummies(training.EmpScore, prefix='emp_score_',drop_first=True)\n",
    "training = training.drop('EmpScore', axis= 1)\n",
    "training = pd.concat([training, emp1], axis= 1)"
   ]
  },
  {
   "cell_type": "code",
   "execution_count": 14,
   "metadata": {},
   "outputs": [],
   "source": [
    "emp2 = pd.get_dummies(testing.EmpScore, prefix='emp_score_',drop_first=True)\n",
    "testing = testing.drop('EmpScore', axis= 1)\n",
    "testing = pd.concat([testing, emp2], axis= 1)"
   ]
  },
  {
   "cell_type": "code",
   "execution_count": 15,
   "metadata": {},
   "outputs": [],
   "source": [
    "training.JobProfileIDApplyingFor = training.JobProfileIDApplyingFor.map({'JR70175': 0,\n",
    "                                                                         'JR79193': 1,\n",
    "                                                                         'JR81165': 2,\n",
    "                                                                         'JR85289': 3,\n",
    "                                                                         'JR87525': 4,\n",
    "                                                                         'JR88654': 5,\n",
    "                                                                         'JR88873': 6,\n",
    "                                                                         'JR88879': 7,\n",
    "                                                                         'JR89890': 8})\n",
    "\n",
    "testing.JobProfileIDApplyingFor = testing.JobProfileIDApplyingFor.map({'JR70175': 0,\n",
    "                                                                         'JR79193': 1,\n",
    "                                                                         'JR81165': 2,\n",
    "                                                                         'JR85289': 3,\n",
    "                                                                         'JR87525': 4,\n",
    "                                                                         'JR88654': 5,\n",
    "                                                                         'JR88873': 6,\n",
    "                                                                         'JR88879': 7,\n",
    "                                                                         'JR89890': 8})"
   ]
  },
  {
   "cell_type": "code",
   "execution_count": 16,
   "metadata": {},
   "outputs": [],
   "source": [
    "married1 = pd.get_dummies(training.MartialStatus, drop_first=True)\n",
    "training = training.drop('MartialStatus', axis = 1)\n",
    "training = pd.concat([training, married1], axis= 1)\n",
    "\n",
    "married2 = pd.get_dummies(testing.MartialStatus, drop_first=True)\n",
    "testing = testing.drop('MartialStatus', axis = 1)\n",
    "testing = pd.concat([testing, married2], axis= 1)"
   ]
  },
  {
   "cell_type": "code",
   "execution_count": 17,
   "metadata": {},
   "outputs": [],
   "source": [
    "training.CurrentCompanyType = training.CurrentCompanyType.map({'Startup': 0,\n",
    "                                                               'MidSized': 1,\n",
    "                                                               'Enterprise': 2})\n",
    "\n",
    "testing.CurrentCompanyType = testing.CurrentCompanyType.map({'Startup': 0,\n",
    "                                                               'MidSized': 1,\n",
    "                                                               'Enterprise': 2})"
   ]
  },
  {
   "cell_type": "code",
   "execution_count": 18,
   "metadata": {},
   "outputs": [],
   "source": [
    "job1 = pd.get_dummies(training.HighestDegree, drop_first=True)\n",
    "training = training.drop('HighestDegree', axis =1)\n",
    "training = pd.concat([training, job1], axis= 1)\n",
    "\n",
    "job2 = pd.get_dummies(testing.HighestDegree, drop_first=True)\n",
    "testing = testing.drop('HighestDegree', axis =1)\n",
    "testing = pd.concat([testing, job2], axis= 1)"
   ]
  },
  {
   "cell_type": "code",
   "execution_count": 19,
   "metadata": {},
   "outputs": [],
   "source": [
    "branch1 = pd.get_dummies(training.DegreeBranch, drop_first=True)\n",
    "training = training.drop('DegreeBranch', axis= 1)\n",
    "training = pd.concat([training, branch1], axis=1)\n",
    "\n",
    "branch2 = pd.get_dummies(testing.DegreeBranch, drop_first=True)\n",
    "testing = testing.drop('DegreeBranch', axis= 1)\n",
    "testing = pd.concat([testing, branch2], axis=1)"
   ]
  },
  {
   "cell_type": "code",
   "execution_count": 20,
   "metadata": {},
   "outputs": [],
   "source": [
    "dept1 = pd.get_dummies(training.DepartmentInCompany, drop_first=True)\n",
    "training = training.drop('DepartmentInCompany', axis= 1)\n",
    "training = pd.concat([training, dept1], axis= 1)\n",
    "\n",
    "dept2 = pd.get_dummies(testing.DepartmentInCompany, drop_first=True)\n",
    "testing = testing.drop('DepartmentInCompany', axis= 1)\n",
    "testing = pd.concat([testing, dept2], axis= 1)"
   ]
  },
  {
   "cell_type": "code",
   "execution_count": 21,
   "metadata": {},
   "outputs": [],
   "source": [
    "training['CGPA_to_percentage'] = (training.LatestDegreeCGPA * 100)/10\n",
    "testing['CGPA_to_percentage'] = (testing.LatestDegreeCGPA * 100)/10"
   ]
  },
  {
   "cell_type": "code",
   "execution_count": 22,
   "metadata": {
    "scrolled": true
   },
   "outputs": [
    {
     "data": {
      "text/plain": [
       "['EmpName',\n",
       " 'GraduatingInstitute',\n",
       " 'CurrentDesignation',\n",
       " 'BiasInfluentialFactor']"
      ]
     },
     "execution_count": 22,
     "metadata": {},
     "output_type": "execute_result"
    }
   ],
   "source": [
    "[var for var in training.columns if training[var].dtypes == 'O']"
   ]
  },
  {
   "cell_type": "code",
   "execution_count": 23,
   "metadata": {},
   "outputs": [],
   "source": [
    "cat_cols = ['CurrentDesignation']"
   ]
  },
  {
   "cell_type": "code",
   "execution_count": 24,
   "metadata": {},
   "outputs": [
    {
     "name": "stderr",
     "output_type": "stream",
     "text": [
      "C:\\Anaconda\\lib\\site-packages\\category_encoders\\utils.py:21: FutureWarning: is_categorical is deprecated and will be removed in a future version.  Use is_categorical_dtype instead\n",
      "  elif pd.api.types.is_categorical(cols):\n"
     ]
    }
   ],
   "source": [
    "be = JamesSteinEncoder(sigma=0.1)\n",
    "be.fit(training[cat_cols], training.FitmentPercent)\n",
    "training[cat_cols] = be.transform(training[cat_cols], training.FitmentPercent)\n",
    "testing[cat_cols] = be.transform(testing[cat_cols])"
   ]
  },
  {
   "cell_type": "code",
   "execution_count": 25,
   "metadata": {},
   "outputs": [],
   "source": [
    "training.GraduatingInstitute = training.GraduatingInstitute.map({'Tier 1':0,\n",
    "                                                                 'Tier 2':1,\n",
    "                                                                 'Tier 3':2})\n",
    "\n",
    "testing.GraduatingInstitute = testing.GraduatingInstitute.map({'Tier 1':0,\n",
    "                                                                 'Tier 2':1,\n",
    "                                                                 'Tier 3':2})"
   ]
  },
  {
   "cell_type": "code",
   "execution_count": 26,
   "metadata": {},
   "outputs": [],
   "source": [
    "training['Expected_increase'] = (training.ExpectedCTC - training.CurrentCTC)/100\n",
    "testing['Expected_increase'] = (testing.ExpectedCTC - testing.CurrentCTC)/100"
   ]
  },
  {
   "cell_type": "code",
   "execution_count": 27,
   "metadata": {},
   "outputs": [
    {
     "data": {
      "text/plain": [
       "['EmpID',\n",
       " 'Age',\n",
       " 'JobProfileIDApplyingFor',\n",
       " 'GraduatingInstitute',\n",
       " 'LatestDegreeCGPA',\n",
       " 'YearsOfExperince',\n",
       " 'GraduationYear',\n",
       " 'CurrentCTC',\n",
       " 'ExpectedCTC',\n",
       " 'CurrentDesignation',\n",
       " 'CurrentCompanyType',\n",
       " 'TotalLeavesTaken',\n",
       " 'FitmentPercent',\n",
       " 'Hindi',\n",
       " 'Native',\n",
       " 'Male',\n",
       " 'Other',\n",
       " 'emp_score__2',\n",
       " 'emp_score__3',\n",
       " 'emp_score__4',\n",
       " 'emp_score__5',\n",
       " 'Single',\n",
       " 'BCA',\n",
       " 'Dual M.Tech',\n",
       " 'Dual MBA',\n",
       " 'M.Tech',\n",
       " 'MCA',\n",
       " 'MS',\n",
       " 'PhD',\n",
       " 'Computer Science',\n",
       " 'Electrical',\n",
       " 'Electrical and Electronics',\n",
       " 'Electronics',\n",
       " 'Information Technology',\n",
       " 'Design',\n",
       " 'Engineering',\n",
       " 'Finance',\n",
       " 'Product',\n",
       " 'CGPA_to_percentage',\n",
       " 'Expected_increase']"
      ]
     },
     "execution_count": 27,
     "metadata": {},
     "output_type": "execute_result"
    }
   ],
   "source": [
    "[var for var in training.columns if training[var].dtypes != 'O']"
   ]
  },
  {
   "cell_type": "code",
   "execution_count": 28,
   "metadata": {},
   "outputs": [],
   "source": [
    "cont_cols = [\n",
    " 'Age',\n",
    " 'JobProfileIDApplyingFor',\n",
    " 'GraduatingInstitute',\n",
    " 'LatestDegreeCGPA',\n",
    " 'YearsOfExperince',\n",
    " 'GraduationYear',\n",
    " 'CurrentCTC',\n",
    " 'ExpectedCTC',\n",
    " 'CurrentDesignation',\n",
    " 'CurrentCompanyType',\n",
    " 'TotalLeavesTaken',\n",
    " 'Hindi',\n",
    " 'Native',\n",
    " 'Male',\n",
    " 'Other',\n",
    " 'emp_score__2',\n",
    " 'emp_score__3',\n",
    " 'emp_score__4',\n",
    " 'emp_score__5',\n",
    " 'Single',\n",
    " 'BCA',\n",
    " 'Dual M.Tech',\n",
    " 'Dual MBA',\n",
    " 'M.Tech',\n",
    " 'MCA',\n",
    " 'MS',\n",
    " 'PhD',\n",
    " 'Computer Science',\n",
    " 'Electrical',\n",
    " 'Electrical and Electronics',\n",
    " 'Electronics',\n",
    " 'Information Technology',\n",
    " 'Design',\n",
    " 'Engineering',\n",
    " 'Finance',\n",
    " 'Product',\n",
    " 'CGPA_to_percentage',\n",
    " 'Expected_increase']"
   ]
  },
  {
   "cell_type": "code",
   "execution_count": 29,
   "metadata": {},
   "outputs": [],
   "source": [
    "X_train = training[cont_cols]\n",
    "y_train = training.FitmentPercent\n",
    "X_test = testing[cont_cols]"
   ]
  },
  {
   "cell_type": "code",
   "execution_count": 30,
   "metadata": {},
   "outputs": [],
   "source": [
    "param_lgbm = {'reg_lambda': 0.578480224690412,\n",
    " 'reg_alpha': 0.4152813025828909,\n",
    " 'colsample_bytree': 1.0,\n",
    " 'subsample': 0.6,\n",
    " 'learning_rate': 0.041172171172767065,\n",
    " 'max_depth': 9,\n",
    " 'min_child_samples': 88,\n",
    " 'num_leaves': 15}"
   ]
  },
  {
   "cell_type": "code",
   "execution_count": null,
   "metadata": {},
   "outputs": [],
   "source": []
  },
  {
   "cell_type": "code",
   "execution_count": 31,
   "metadata": {
    "scrolled": false
   },
   "outputs": [
    {
     "data": {
      "application/vnd.jupyter.widget-view+json": {
       "model_id": "c207c1dddc7947c8bc3cf8f32657a46a",
       "version_major": 2,
       "version_minor": 0
      },
      "text/plain": [
       "HBox(children=(HTML(value=''), FloatProgress(value=1.0, bar_style='info', layout=Layout(width='20px'), max=1.0…"
      ]
     },
     "metadata": {},
     "output_type": "display_data"
    },
    {
     "name": "stdout",
     "output_type": "stream",
     "text": [
      "================== 1 ====================\n",
      "Train set\n",
      "mean_squared_error on Train data: 77.56818925412364\n",
      "Val set\n",
      "78.31553344202224\n",
      "================== 2 ====================\n",
      "Train set\n",
      "mean_squared_error on Train data: 77.52591545288362\n",
      "Val set\n",
      "81.45331567400386\n",
      "================== 3 ====================\n",
      "Train set\n",
      "mean_squared_error on Train data: 77.37879677940063\n",
      "Val set\n",
      "82.14720791475747\n",
      "================== 4 ====================\n",
      "Train set\n",
      "mean_squared_error on Train data: 76.95236607451602\n",
      "Val set\n",
      "84.63995214876861\n",
      "================== 5 ====================\n",
      "Train set\n",
      "mean_squared_error on Train data: 77.3678579284666\n",
      "Val set\n",
      "81.37796928408325\n",
      "================== 6 ====================\n",
      "Train set\n",
      "mean_squared_error on Train data: 77.22349499300276\n",
      "Val set\n",
      "84.23910714135093\n",
      "================== 7 ====================\n",
      "Train set\n",
      "mean_squared_error on Train data: 78.017542064997\n",
      "Val set\n",
      "75.5904673266492\n",
      "================== 8 ====================\n",
      "Train set\n",
      "mean_squared_error on Train data: 77.8517805557081\n",
      "Val set\n",
      "78.0583552977774\n",
      "================== 9 ====================\n",
      "Train set\n",
      "mean_squared_error on Train data: 77.98613806618978\n",
      "Val set\n",
      "76.88752600841376\n",
      "================== 10 ====================\n",
      "Train set\n",
      "mean_squared_error on Train data: 77.42042219206208\n",
      "Val set\n",
      "80.78293586460275\n",
      "\n",
      "Final prediction:==== 80.34923701024294\n"
     ]
    }
   ],
   "source": [
    "NUM_FOLDS = 10\n",
    "kf = KFold(n_splits=NUM_FOLDS, shuffle=True, random_state=0)\n",
    "MSE = []\n",
    "\n",
    "for f, (train_ind, val_ind) in tqdm(enumerate(kf.split(X_train, y_train))):\n",
    "    print('==================', f+1, '====================')\n",
    "    train_df, val_df = X_train.iloc[train_ind], X_train.iloc[val_ind]\n",
    "    train_target, val_target = y_train.iloc[train_ind], y_train.iloc[val_ind]\n",
    "        \n",
    "    model = LGBMRegressor(**param_lgbm)\n",
    "    model.fit(train_df, train_target)\n",
    "    print('Train set')\n",
    "    pred = model.predict(train_df)\n",
    "    print('mean_squared_error on Train data: {}'.format(mean_squared_error(train_target, pred)))\n",
    "\n",
    "    print('Val set')\n",
    "    pred_val = model.predict(val_df)\n",
    "    print(mean_squared_error(val_target, pred_val))\n",
    "    pred_test = model.predict(X_test)\n",
    "    MSE.append(mean_squared_error(val_target, pred_val))\n",
    "print('Final prediction:====',np.mean(MSE))"
   ]
  },
  {
   "cell_type": "code",
   "execution_count": 32,
   "metadata": {},
   "outputs": [],
   "source": [
    "param_xgb = {'booster': 'gbtree',\n",
    " 'reg_lambda': 0.00028558121918599686,\n",
    " 'reg_alpha': 0.0015195590664257264,\n",
    " 'max_depth': 6,\n",
    " 'learning_rate': 0.04940302060852827,\n",
    " 'gamma': 8.709181301105377e-08,\n",
    " 'grow_policy': 'lossguide'}"
   ]
  },
  {
   "cell_type": "code",
   "execution_count": 33,
   "metadata": {
    "scrolled": false
   },
   "outputs": [
    {
     "data": {
      "application/vnd.jupyter.widget-view+json": {
       "model_id": "ffa169801d704a709b98b5dc25065e76",
       "version_major": 2,
       "version_minor": 0
      },
      "text/plain": [
       "HBox(children=(HTML(value=''), FloatProgress(value=1.0, bar_style='info', layout=Layout(width='20px'), max=1.0…"
      ]
     },
     "metadata": {},
     "output_type": "display_data"
    },
    {
     "name": "stdout",
     "output_type": "stream",
     "text": [
      "================== 1 ====================\n",
      "Train set\n",
      "Cat mean_squared_error on Train data: 66.9249302520397\n",
      "Val set\n",
      "79.98164130432005\n",
      "================== 2 ====================\n",
      "Train set\n",
      "Cat mean_squared_error on Train data: 66.64656652189723\n",
      "Val set\n",
      "83.76360482832669\n",
      "================== 3 ====================\n",
      "Train set\n",
      "Cat mean_squared_error on Train data: 66.93819132043765\n",
      "Val set\n",
      "83.92345825751059\n",
      "================== 4 ====================\n",
      "Train set\n",
      "Cat mean_squared_error on Train data: 66.2872092700755\n",
      "Val set\n",
      "86.00554968361101\n",
      "================== 5 ====================\n",
      "Train set\n",
      "Cat mean_squared_error on Train data: 66.84091000585104\n",
      "Val set\n",
      "80.65129935354612\n",
      "================== 6 ====================\n",
      "Train set\n",
      "Cat mean_squared_error on Train data: 66.3645420219732\n",
      "Val set\n",
      "86.56334577883688\n",
      "================== 7 ====================\n",
      "Train set\n",
      "Cat mean_squared_error on Train data: 67.22634324991915\n",
      "Val set\n",
      "77.26791743910955\n",
      "================== 8 ====================\n",
      "Train set\n",
      "Cat mean_squared_error on Train data: 67.31295774461712\n",
      "Val set\n",
      "79.86877854697386\n",
      "================== 9 ====================\n",
      "Train set\n",
      "Cat mean_squared_error on Train data: 66.9054726695263\n",
      "Val set\n",
      "78.87601379856865\n",
      "================== 10 ====================\n",
      "Train set\n",
      "Cat mean_squared_error on Train data: 66.80866691364916\n",
      "Val set\n",
      "81.66706003550762\n",
      "\n",
      "Final prediction:==== 81.8568669026311\n"
     ]
    }
   ],
   "source": [
    "NUM_FOLDS = 10\n",
    "kf = KFold(n_splits=NUM_FOLDS, shuffle=True, random_state=0)\n",
    "MSE = []\n",
    "\n",
    "for f, (train_ind, val_ind) in tqdm(enumerate(kf.split(X_train, y_train))):\n",
    "    print('==================', f+1, '====================')\n",
    "    train_df, val_df = X_train.iloc[train_ind], X_train.iloc[val_ind]\n",
    "    train_target, val_target = y_train.iloc[train_ind], y_train.iloc[val_ind]\n",
    "        \n",
    "    model = XGBRegressor(**param_xgb)\n",
    "    model.fit(train_df, train_target)\n",
    "    print('Train set')\n",
    "    pred = model.predict(train_df)\n",
    "    print('Cat mean_squared_error on Train data: {}'.format(mean_squared_error(train_target, pred)))\n",
    "\n",
    "    print('Val set')\n",
    "    pred_val = model.predict(val_df)\n",
    "    print(mean_squared_error(val_target, pred_val))\n",
    "    pred_test = model.predict(X_test)\n",
    "    MSE.append(mean_squared_error(val_target, pred_val))\n",
    "print('Final prediction:====',np.mean(MSE))"
   ]
  },
  {
   "cell_type": "code",
   "execution_count": 34,
   "metadata": {},
   "outputs": [
    {
     "data": {
      "application/vnd.jupyter.widget-view+json": {
       "model_id": "e407033bdbdd4557ba4e1b571bef5e7f",
       "version_major": 2,
       "version_minor": 0
      },
      "text/plain": [
       "HBox(children=(HTML(value=''), FloatProgress(value=1.0, bar_style='info', layout=Layout(width='20px'), max=1.0…"
      ]
     },
     "metadata": {},
     "output_type": "display_data"
    },
    {
     "name": "stdout",
     "output_type": "stream",
     "text": [
      "================== 1 ====================\n",
      "Train set\n",
      "mean_squared_error on Train data: 48.28263864050737\n",
      "Val set\n",
      "82.60407190394966\n",
      "================== 2 ====================\n",
      "Train set\n",
      "mean_squared_error on Train data: 47.955562304081404\n",
      "Val set\n",
      "85.98859974989126\n",
      "================== 3 ====================\n",
      "Train set\n",
      "mean_squared_error on Train data: 48.0564573605673\n",
      "Val set\n",
      "84.78341795091208\n",
      "================== 4 ====================\n",
      "Train set\n",
      "mean_squared_error on Train data: 48.069889312766605\n",
      "Val set\n",
      "89.55690350053334\n",
      "================== 5 ====================\n",
      "Train set\n",
      "mean_squared_error on Train data: 48.31382552576147\n",
      "Val set\n",
      "84.34075072500804\n",
      "================== 6 ====================\n",
      "Train set\n",
      "mean_squared_error on Train data: 47.51506018337869\n",
      "Val set\n",
      "89.440464023787\n",
      "================== 7 ====================\n",
      "Train set\n",
      "mean_squared_error on Train data: 48.380582964174664\n",
      "Val set\n",
      "79.957183219813\n",
      "================== 8 ====================\n",
      "Train set\n",
      "mean_squared_error on Train data: 48.13792669065762\n",
      "Val set\n",
      "82.12515640265724\n",
      "================== 9 ====================\n",
      "Train set\n",
      "mean_squared_error on Train data: 48.07835847738842\n",
      "Val set\n",
      "81.08716731383997\n",
      "================== 10 ====================\n",
      "Train set\n",
      "mean_squared_error on Train data: 47.88660869034978\n",
      "Val set\n",
      "84.29248690630442\n",
      "\n",
      "Final prediction:==== 84.41762016966959\n"
     ]
    }
   ],
   "source": [
    "NUM_FOLDS = 10\n",
    "kf = KFold(n_splits=NUM_FOLDS, shuffle=True, random_state=0)\n",
    "MSE = []\n",
    "\n",
    "for f, (train_ind, val_ind) in tqdm(enumerate(kf.split(X_train, y_train))):\n",
    "    print('==================', f+1, '====================')\n",
    "    train_df, val_df = X_train.iloc[train_ind], X_train.iloc[val_ind]\n",
    "    train_target, val_target = y_train.iloc[train_ind], y_train.iloc[val_ind]\n",
    "        \n",
    "    model = CatBoostRegressor(verbose=0)\n",
    "    model.fit(train_df, train_target)\n",
    "    print('Train set')\n",
    "    pred = model.predict(train_df)\n",
    "    print('mean_squared_error on Train data: {}'.format(mean_squared_error(train_target, pred)))\n",
    "\n",
    "    print('Val set')\n",
    "    pred_val = model.predict(val_df)\n",
    "    print(mean_squared_error(val_target, pred_val))\n",
    "    pred_test = model.predict(X_test)\n",
    "    MSE.append(mean_squared_error(val_target, pred_val))\n",
    "print('Final prediction:====',np.mean(MSE))"
   ]
  },
  {
   "cell_type": "markdown",
   "metadata": {},
   "source": [
    "#### Feature Importance"
   ]
  },
  {
   "cell_type": "code",
   "execution_count": 35,
   "metadata": {},
   "outputs": [],
   "source": [
    "# function for creating a feature importance dataframe\n",
    "def imp_df(column_names, importances):\n",
    "    df = pd.DataFrame({'feature': column_names,\n",
    "                       'feature_importance': importances}) \\\n",
    "           .sort_values('feature_importance', ascending = False) \\\n",
    "           .reset_index(drop = True)\n",
    "    return df\n",
    "\n",
    "# plotting a feature importance dataframe (horizontal barchart)\n",
    "def var_imp_plot(imp_df):\n",
    "    plt.figure(figsize=(20,18))\n",
    "    imp_df.columns = ['feature', 'feature_importance']\n",
    "    sns.barplot(x = 'feature_importance', y = 'feature', data = imp_df, orient = 'h', color = 'royalblue')"
   ]
  },
  {
   "cell_type": "code",
   "execution_count": 36,
   "metadata": {},
   "outputs": [],
   "source": [
    "def r2(rf, X_train, y_train):\n",
    "    return mean_squared_error(y_train, model.predict(X_train))"
   ]
  },
  {
   "cell_type": "code",
   "execution_count": null,
   "metadata": {},
   "outputs": [],
   "source": [
    "perm_imp_rfpimp = permutation_importances(model, X_train, y_train, r2)\n",
    "perm_imp_rfpimp.reset_index(drop = False, inplace = True)"
   ]
  },
  {
   "cell_type": "code",
   "execution_count": null,
   "metadata": {},
   "outputs": [],
   "source": [
    "var_imp_plot(perm_imp_rfpimp)"
   ]
  },
  {
   "cell_type": "code",
   "execution_count": null,
   "metadata": {},
   "outputs": [],
   "source": [
    "testing['BiasInfluentialFactor'] = testing.BiasInfluentialFactor.astype(str).replace('Missing', np.nan)"
   ]
  },
  {
   "cell_type": "markdown",
   "metadata": {},
   "source": [
    "#### Creating stacking model"
   ]
  },
  {
   "cell_type": "code",
   "execution_count": null,
   "metadata": {},
   "outputs": [],
   "source": [
    "def get_models():\n",
    "    model1 = LGBMRegressor(**param_lgbm)\n",
    "\n",
    "    model2 = LGBMRegressor(**param_lgbm)\n",
    "\n",
    "    model3 = XGBRegressor(**param_xgb)\n",
    "        \n",
    "    models = {'XGB':model1, 'CAT':model2, 'LGBM':model3}\n",
    "\n",
    "    return models"
   ]
  },
  {
   "cell_type": "code",
   "execution_count": null,
   "metadata": {},
   "outputs": [],
   "source": [
    "base_learners = get_models()\n",
    "meta_learner = LGBMRegressor(**param_lgbm)"
   ]
  },
  {
   "cell_type": "code",
   "execution_count": null,
   "metadata": {},
   "outputs": [],
   "source": [
    "from mlens.ensemble import SuperLearner\n",
    "\n",
    "# Instantiate the ensemble with 10 folds\n",
    "sl = SuperLearner(\n",
    "    folds=10,\n",
    "    random_state=10,\n",
    "    verbose=2,\n",
    "    backend=\"multiprocessing\"\n",
    ")\n",
    "\n",
    "# Add the base learners and the meta learner\n",
    "sl.add(list(base_learners.values())) \n",
    "sl.add_meta(meta_learner)\n",
    "\n",
    "# Train the ensemble\n",
    "sl.fit(X_train, y_train)\n",
    "\n",
    "# Predict the test set\n",
    "p_sl = sl.predict(X_test)"
   ]
  },
  {
   "cell_type": "markdown",
   "metadata": {},
   "source": [
    "#### Making submisison"
   ]
  },
  {
   "cell_type": "code",
   "execution_count": null,
   "metadata": {},
   "outputs": [],
   "source": [
    "submission = pd.DataFrame()\n",
    "submission['EmpID'] = testing.EmpID\n",
    "submission['BiasInfluentialFactor'] = testing['BiasInfluentialFactor']\n",
    "submission['FitmentPercent'] = np.round(p_sl, decimals=2)\n",
    "submission.to_csv('submission.csv',index=False)\n",
    "submission.head()"
   ]
  },
  {
   "cell_type": "code",
   "execution_count": null,
   "metadata": {},
   "outputs": [],
   "source": []
  },
  {
   "cell_type": "code",
   "execution_count": null,
   "metadata": {},
   "outputs": [],
   "source": []
  }
 ],
 "metadata": {
  "kernelspec": {
   "display_name": "Python 3",
   "language": "python",
   "name": "python3"
  },
  "language_info": {
   "codemirror_mode": {
    "name": "ipython",
    "version": 3
   },
   "file_extension": ".py",
   "mimetype": "text/x-python",
   "name": "python",
   "nbconvert_exporter": "python",
   "pygments_lexer": "ipython3",
   "version": "3.8.5"
  }
 },
 "nbformat": 4,
 "nbformat_minor": 4
}
